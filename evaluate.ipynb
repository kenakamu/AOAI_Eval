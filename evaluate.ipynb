{
 "cells": [
  {
   "cell_type": "markdown",
   "metadata": {},
   "source": [
    "# Prepare Configurations"
   ]
  },
  {
   "cell_type": "code",
   "execution_count": 1,
   "metadata": {},
   "outputs": [
    {
     "name": "stdout",
     "output_type": "stream",
     "text": [
      "Requirement already satisfied: azure-ai-evaluation in c:\\users\\kenakamu\\downloads\\aoaieval\\.venv\\lib\\site-packages (from -r requirements.txt (line 1)) (1.1.0)\n",
      "Requirement already satisfied: promptflow-azure in c:\\users\\kenakamu\\downloads\\aoaieval\\.venv\\lib\\site-packages (from -r requirements.txt (line 2)) (1.17.1)\n",
      "Requirement already satisfied: azure-identity in c:\\users\\kenakamu\\downloads\\aoaieval\\.venv\\lib\\site-packages (from -r requirements.txt (line 3)) (1.19.0)\n",
      "Requirement already satisfied: wikipedia in c:\\users\\kenakamu\\downloads\\aoaieval\\.venv\\lib\\site-packages (from -r requirements.txt (line 4)) (1.4.0)\n",
      "Requirement already satisfied: python-dotenv in c:\\users\\kenakamu\\downloads\\aoaieval\\.venv\\lib\\site-packages (from -r requirements.txt (line 5)) (1.0.1)\n",
      "Requirement already satisfied: azure-ai-projects in c:\\users\\kenakamu\\downloads\\aoaieval\\.venv\\lib\\site-packages (from -r requirements.txt (line 6)) (1.0.0b5)\n",
      "Requirement already satisfied: azure-ai-ml in c:\\users\\kenakamu\\downloads\\aoaieval\\.venv\\lib\\site-packages (from -r requirements.txt (line 7)) (1.23.1)\n",
      "Requirement already satisfied: promptflow-devkit>=1.15.0 in c:\\users\\kenakamu\\downloads\\aoaieval\\.venv\\lib\\site-packages (from azure-ai-evaluation->-r requirements.txt (line 1)) (1.17.1)\n",
      "Requirement already satisfied: promptflow-core>=1.15.0 in c:\\users\\kenakamu\\downloads\\aoaieval\\.venv\\lib\\site-packages (from azure-ai-evaluation->-r requirements.txt (line 1)) (1.17.1)\n",
      "Requirement already satisfied: pyjwt>=2.8.0 in c:\\users\\kenakamu\\downloads\\aoaieval\\.venv\\lib\\site-packages (from azure-ai-evaluation->-r requirements.txt (line 1)) (2.10.1)\n",
      "Requirement already satisfied: azure-core>=1.30.2 in c:\\users\\kenakamu\\downloads\\aoaieval\\.venv\\lib\\site-packages (from azure-ai-evaluation->-r requirements.txt (line 1)) (1.32.0)\n",
      "Requirement already satisfied: nltk>=3.9.1 in c:\\users\\kenakamu\\downloads\\aoaieval\\.venv\\lib\\site-packages (from azure-ai-evaluation->-r requirements.txt (line 1)) (3.9.1)\n",
      "Requirement already satisfied: azure-storage-blob>=12.10.0 in c:\\users\\kenakamu\\downloads\\aoaieval\\.venv\\lib\\site-packages (from azure-ai-evaluation->-r requirements.txt (line 1)) (12.24.0)\n",
      "Requirement already satisfied: azure-cosmos<5.0.0,>=4.5.1 in c:\\users\\kenakamu\\downloads\\aoaieval\\.venv\\lib\\site-packages (from promptflow-azure->-r requirements.txt (line 2)) (4.9.0)\n",
      "Requirement already satisfied: cryptography>=2.5 in c:\\users\\kenakamu\\downloads\\aoaieval\\.venv\\lib\\site-packages (from azure-identity->-r requirements.txt (line 3)) (44.0.0)\n",
      "Requirement already satisfied: msal>=1.30.0 in c:\\users\\kenakamu\\downloads\\aoaieval\\.venv\\lib\\site-packages (from azure-identity->-r requirements.txt (line 3)) (1.31.1)\n",
      "Requirement already satisfied: msal-extensions>=1.2.0 in c:\\users\\kenakamu\\downloads\\aoaieval\\.venv\\lib\\site-packages (from azure-identity->-r requirements.txt (line 3)) (1.2.0)\n",
      "Requirement already satisfied: typing-extensions>=4.0.0 in c:\\users\\kenakamu\\downloads\\aoaieval\\.venv\\lib\\site-packages (from azure-identity->-r requirements.txt (line 3)) (4.12.2)\n",
      "Requirement already satisfied: beautifulsoup4 in c:\\users\\kenakamu\\downloads\\aoaieval\\.venv\\lib\\site-packages (from wikipedia->-r requirements.txt (line 4)) (4.12.3)\n",
      "Requirement already satisfied: requests<3.0.0,>=2.0.0 in c:\\users\\kenakamu\\downloads\\aoaieval\\.venv\\lib\\site-packages (from wikipedia->-r requirements.txt (line 4)) (2.32.3)\n",
      "Requirement already satisfied: isodate>=0.6.1 in c:\\users\\kenakamu\\downloads\\aoaieval\\.venv\\lib\\site-packages (from azure-ai-projects->-r requirements.txt (line 6)) (0.7.2)\n",
      "Requirement already satisfied: pyyaml>=5.1.0 in c:\\users\\kenakamu\\downloads\\aoaieval\\.venv\\lib\\site-packages (from azure-ai-ml->-r requirements.txt (line 7)) (6.0.2)\n",
      "Requirement already satisfied: msrest>=0.6.18 in c:\\users\\kenakamu\\downloads\\aoaieval\\.venv\\lib\\site-packages (from azure-ai-ml->-r requirements.txt (line 7)) (0.7.1)\n",
      "Requirement already satisfied: azure-mgmt-core>=1.3.0 in c:\\users\\kenakamu\\downloads\\aoaieval\\.venv\\lib\\site-packages (from azure-ai-ml->-r requirements.txt (line 7)) (1.5.0)\n",
      "Requirement already satisfied: marshmallow>=3.5 in c:\\users\\kenakamu\\downloads\\aoaieval\\.venv\\lib\\site-packages (from azure-ai-ml->-r requirements.txt (line 7)) (3.25.1)\n",
      "Requirement already satisfied: jsonschema>=4.0.0 in c:\\users\\kenakamu\\downloads\\aoaieval\\.venv\\lib\\site-packages (from azure-ai-ml->-r requirements.txt (line 7)) (4.23.0)\n",
      "Requirement already satisfied: tqdm in c:\\users\\kenakamu\\downloads\\aoaieval\\.venv\\lib\\site-packages (from azure-ai-ml->-r requirements.txt (line 7)) (4.67.1)\n",
      "Requirement already satisfied: strictyaml in c:\\users\\kenakamu\\downloads\\aoaieval\\.venv\\lib\\site-packages (from azure-ai-ml->-r requirements.txt (line 7)) (1.7.3)\n",
      "Requirement already satisfied: colorama in c:\\users\\kenakamu\\downloads\\aoaieval\\.venv\\lib\\site-packages (from azure-ai-ml->-r requirements.txt (line 7)) (0.4.6)\n",
      "Requirement already satisfied: azure-storage-file-share in c:\\users\\kenakamu\\downloads\\aoaieval\\.venv\\lib\\site-packages (from azure-ai-ml->-r requirements.txt (line 7)) (12.20.0)\n",
      "Requirement already satisfied: azure-storage-file-datalake>=12.2.0 in c:\\users\\kenakamu\\downloads\\aoaieval\\.venv\\lib\\site-packages (from azure-ai-ml->-r requirements.txt (line 7)) (12.18.0)\n",
      "Requirement already satisfied: pydash>=6.0.0 in c:\\users\\kenakamu\\downloads\\aoaieval\\.venv\\lib\\site-packages (from azure-ai-ml->-r requirements.txt (line 7)) (7.0.7)\n",
      "Requirement already satisfied: azure-common>=1.1 in c:\\users\\kenakamu\\downloads\\aoaieval\\.venv\\lib\\site-packages (from azure-ai-ml->-r requirements.txt (line 7)) (1.1.28)\n",
      "Requirement already satisfied: opencensus-ext-azure in c:\\users\\kenakamu\\downloads\\aoaieval\\.venv\\lib\\site-packages (from azure-ai-ml->-r requirements.txt (line 7)) (1.1.14)\n",
      "Requirement already satisfied: opencensus-ext-logging in c:\\users\\kenakamu\\downloads\\aoaieval\\.venv\\lib\\site-packages (from azure-ai-ml->-r requirements.txt (line 7)) (0.1.1)\n",
      "Requirement already satisfied: six>=1.11.0 in c:\\users\\kenakamu\\downloads\\aoaieval\\.venv\\lib\\site-packages (from azure-core>=1.30.2->azure-ai-evaluation->-r requirements.txt (line 1)) (1.17.0)\n",
      "Requirement already satisfied: cffi>=1.12 in c:\\users\\kenakamu\\downloads\\aoaieval\\.venv\\lib\\site-packages (from cryptography>=2.5->azure-identity->-r requirements.txt (line 3)) (1.17.1)\n",
      "Requirement already satisfied: attrs>=22.2.0 in c:\\users\\kenakamu\\downloads\\aoaieval\\.venv\\lib\\site-packages (from jsonschema>=4.0.0->azure-ai-ml->-r requirements.txt (line 7)) (24.3.0)\n",
      "Requirement already satisfied: jsonschema-specifications>=2023.03.6 in c:\\users\\kenakamu\\downloads\\aoaieval\\.venv\\lib\\site-packages (from jsonschema>=4.0.0->azure-ai-ml->-r requirements.txt (line 7)) (2024.10.1)\n",
      "Requirement already satisfied: referencing>=0.28.4 in c:\\users\\kenakamu\\downloads\\aoaieval\\.venv\\lib\\site-packages (from jsonschema>=4.0.0->azure-ai-ml->-r requirements.txt (line 7)) (0.36.1)\n",
      "Requirement already satisfied: rpds-py>=0.7.1 in c:\\users\\kenakamu\\downloads\\aoaieval\\.venv\\lib\\site-packages (from jsonschema>=4.0.0->azure-ai-ml->-r requirements.txt (line 7)) (0.22.3)\n",
      "Requirement already satisfied: packaging>=17.0 in c:\\users\\kenakamu\\downloads\\aoaieval\\.venv\\lib\\site-packages (from marshmallow>=3.5->azure-ai-ml->-r requirements.txt (line 7)) (24.2)\n",
      "Requirement already satisfied: portalocker<3,>=1.4 in c:\\users\\kenakamu\\downloads\\aoaieval\\.venv\\lib\\site-packages (from msal-extensions>=1.2.0->azure-identity->-r requirements.txt (line 3)) (2.10.1)\n",
      "Requirement already satisfied: certifi>=2017.4.17 in c:\\users\\kenakamu\\downloads\\aoaieval\\.venv\\lib\\site-packages (from msrest>=0.6.18->azure-ai-ml->-r requirements.txt (line 7)) (2024.12.14)\n",
      "Requirement already satisfied: requests-oauthlib>=0.5.0 in c:\\users\\kenakamu\\downloads\\aoaieval\\.venv\\lib\\site-packages (from msrest>=0.6.18->azure-ai-ml->-r requirements.txt (line 7)) (2.0.0)\n",
      "Requirement already satisfied: click in c:\\users\\kenakamu\\downloads\\aoaieval\\.venv\\lib\\site-packages (from nltk>=3.9.1->azure-ai-evaluation->-r requirements.txt (line 1)) (8.1.8)\n",
      "Requirement already satisfied: joblib in c:\\users\\kenakamu\\downloads\\aoaieval\\.venv\\lib\\site-packages (from nltk>=3.9.1->azure-ai-evaluation->-r requirements.txt (line 1)) (1.4.2)\n",
      "Requirement already satisfied: regex>=2021.8.3 in c:\\users\\kenakamu\\downloads\\aoaieval\\.venv\\lib\\site-packages (from nltk>=3.9.1->azure-ai-evaluation->-r requirements.txt (line 1)) (2024.11.6)\n",
      "Requirement already satisfied: docstring_parser in c:\\users\\kenakamu\\downloads\\aoaieval\\.venv\\lib\\site-packages (from promptflow-core>=1.15.0->azure-ai-evaluation->-r requirements.txt (line 1)) (0.16)\n",
      "Requirement already satisfied: fastapi<1.0.0,>=0.109.0 in c:\\users\\kenakamu\\downloads\\aoaieval\\.venv\\lib\\site-packages (from promptflow-core>=1.15.0->azure-ai-evaluation->-r requirements.txt (line 1)) (0.115.6)\n",
      "Requirement already satisfied: filetype>=1.2.0 in c:\\users\\kenakamu\\downloads\\aoaieval\\.venv\\lib\\site-packages (from promptflow-core>=1.15.0->azure-ai-evaluation->-r requirements.txt (line 1)) (1.2.0)\n",
      "Requirement already satisfied: flask<4.0.0,>=2.2.3 in c:\\users\\kenakamu\\downloads\\aoaieval\\.venv\\lib\\site-packages (from promptflow-core>=1.15.0->azure-ai-evaluation->-r requirements.txt (line 1)) (3.1.0)\n",
      "Requirement already satisfied: promptflow-tracing==1.17.1 in c:\\users\\kenakamu\\downloads\\aoaieval\\.venv\\lib\\site-packages (from promptflow-core>=1.15.0->azure-ai-evaluation->-r requirements.txt (line 1)) (1.17.1)\n",
      "Requirement already satisfied: psutil in c:\\users\\kenakamu\\downloads\\aoaieval\\.venv\\lib\\site-packages (from promptflow-core>=1.15.0->azure-ai-evaluation->-r requirements.txt (line 1)) (5.9.8)\n",
      "Requirement already satisfied: python-dateutil<3.0.0,>=2.1.0 in c:\\users\\kenakamu\\downloads\\aoaieval\\.venv\\lib\\site-packages (from promptflow-core>=1.15.0->azure-ai-evaluation->-r requirements.txt (line 1)) (2.9.0.post0)\n",
      "Requirement already satisfied: ruamel.yaml<1.0.0,>=0.17.10 in c:\\users\\kenakamu\\downloads\\aoaieval\\.venv\\lib\\site-packages (from promptflow-core>=1.15.0->azure-ai-evaluation->-r requirements.txt (line 1)) (0.18.10)\n",
      "Requirement already satisfied: openai in c:\\users\\kenakamu\\downloads\\aoaieval\\.venv\\lib\\site-packages (from promptflow-tracing==1.17.1->promptflow-core>=1.15.0->azure-ai-evaluation->-r requirements.txt (line 1)) (1.59.7)\n",
      "Requirement already satisfied: opentelemetry-sdk<2.0.0,>=1.22.0 in c:\\users\\kenakamu\\downloads\\aoaieval\\.venv\\lib\\site-packages (from promptflow-tracing==1.17.1->promptflow-core>=1.15.0->azure-ai-evaluation->-r requirements.txt (line 1)) (1.29.0)\n",
      "Requirement already satisfied: tiktoken>=0.4.0 in c:\\users\\kenakamu\\downloads\\aoaieval\\.venv\\lib\\site-packages (from promptflow-tracing==1.17.1->promptflow-core>=1.15.0->azure-ai-evaluation->-r requirements.txt (line 1)) (0.8.0)\n",
      "Requirement already satisfied: argcomplete>=3.2.3 in c:\\users\\kenakamu\\downloads\\aoaieval\\.venv\\lib\\site-packages (from promptflow-devkit>=1.15.0->azure-ai-evaluation->-r requirements.txt (line 1)) (3.5.3)\n",
      "Requirement already satisfied: azure-monitor-opentelemetry-exporter<2.0.0,>=1.0.0b21 in c:\\users\\kenakamu\\downloads\\aoaieval\\.venv\\lib\\site-packages (from promptflow-devkit>=1.15.0->azure-ai-evaluation->-r requirements.txt (line 1)) (1.0.0b33)\n",
      "Requirement already satisfied: filelock<4.0.0,>=3.4.0 in c:\\users\\kenakamu\\downloads\\aoaieval\\.venv\\lib\\site-packages (from promptflow-devkit>=1.15.0->azure-ai-evaluation->-r requirements.txt (line 1)) (3.16.1)\n",
      "Requirement already satisfied: flask-cors<6.0.0,>=5.0.0 in c:\\users\\kenakamu\\downloads\\aoaieval\\.venv\\lib\\site-packages (from promptflow-devkit>=1.15.0->azure-ai-evaluation->-r requirements.txt (line 1)) (5.0.0)\n",
      "Requirement already satisfied: flask-restx<2.0.0,>=1.2.0 in c:\\users\\kenakamu\\downloads\\aoaieval\\.venv\\lib\\site-packages (from promptflow-devkit>=1.15.0->azure-ai-evaluation->-r requirements.txt (line 1)) (1.3.0)\n",
      "Requirement already satisfied: gitpython<4.0.0,>=3.1.24 in c:\\users\\kenakamu\\downloads\\aoaieval\\.venv\\lib\\site-packages (from promptflow-devkit>=1.15.0->azure-ai-evaluation->-r requirements.txt (line 1)) (3.1.44)\n",
      "Requirement already satisfied: httpx>=0.25.1 in c:\\users\\kenakamu\\downloads\\aoaieval\\.venv\\lib\\site-packages (from promptflow-devkit>=1.15.0->azure-ai-evaluation->-r requirements.txt (line 1)) (0.28.1)\n",
      "Requirement already satisfied: keyring<25.0.0,>=24.2.0 in c:\\users\\kenakamu\\downloads\\aoaieval\\.venv\\lib\\site-packages (from promptflow-devkit>=1.15.0->azure-ai-evaluation->-r requirements.txt (line 1)) (24.3.1)\n",
      "Requirement already satisfied: opentelemetry-exporter-otlp-proto-http<2.0.0,>=1.22.0 in c:\\users\\kenakamu\\downloads\\aoaieval\\.venv\\lib\\site-packages (from promptflow-devkit>=1.15.0->azure-ai-evaluation->-r requirements.txt (line 1)) (1.29.0)\n",
      "Requirement already satisfied: pandas<3.0.0,>=1.5.3 in c:\\users\\kenakamu\\downloads\\aoaieval\\.venv\\lib\\site-packages (from promptflow-devkit>=1.15.0->azure-ai-evaluation->-r requirements.txt (line 1)) (2.2.3)\n",
      "Requirement already satisfied: pillow<11.0.0,>=10.1.0 in c:\\users\\kenakamu\\downloads\\aoaieval\\.venv\\lib\\site-packages (from promptflow-devkit>=1.15.0->azure-ai-evaluation->-r requirements.txt (line 1)) (10.4.0)\n",
      "Requirement already satisfied: pywin32 in c:\\users\\kenakamu\\downloads\\aoaieval\\.venv\\lib\\site-packages (from promptflow-devkit>=1.15.0->azure-ai-evaluation->-r requirements.txt (line 1)) (308)\n",
      "Requirement already satisfied: sqlalchemy<3.0.0,>=1.4.48 in c:\\users\\kenakamu\\downloads\\aoaieval\\.venv\\lib\\site-packages (from promptflow-devkit>=1.15.0->azure-ai-evaluation->-r requirements.txt (line 1)) (2.0.37)\n",
      "Requirement already satisfied: tabulate<1.0.0,>=0.9.0 in c:\\users\\kenakamu\\downloads\\aoaieval\\.venv\\lib\\site-packages (from promptflow-devkit>=1.15.0->azure-ai-evaluation->-r requirements.txt (line 1)) (0.9.0)\n",
      "Requirement already satisfied: waitress<4.0.0,>=3.0.0 in c:\\users\\kenakamu\\downloads\\aoaieval\\.venv\\lib\\site-packages (from promptflow-devkit>=1.15.0->azure-ai-evaluation->-r requirements.txt (line 1)) (3.0.2)\n",
      "Requirement already satisfied: charset-normalizer<4,>=2 in c:\\users\\kenakamu\\downloads\\aoaieval\\.venv\\lib\\site-packages (from requests<3.0.0,>=2.0.0->wikipedia->-r requirements.txt (line 4)) (3.4.1)\n",
      "Requirement already satisfied: idna<4,>=2.5 in c:\\users\\kenakamu\\downloads\\aoaieval\\.venv\\lib\\site-packages (from requests<3.0.0,>=2.0.0->wikipedia->-r requirements.txt (line 4)) (3.10)\n",
      "Requirement already satisfied: urllib3<3,>=1.21.1 in c:\\users\\kenakamu\\downloads\\aoaieval\\.venv\\lib\\site-packages (from requests<3.0.0,>=2.0.0->wikipedia->-r requirements.txt (line 4)) (2.3.0)\n",
      "Requirement already satisfied: soupsieve>1.2 in c:\\users\\kenakamu\\downloads\\aoaieval\\.venv\\lib\\site-packages (from beautifulsoup4->wikipedia->-r requirements.txt (line 4)) (2.6)\n",
      "Requirement already satisfied: opencensus<1.0.0,>=0.11.4 in c:\\users\\kenakamu\\downloads\\aoaieval\\.venv\\lib\\site-packages (from opencensus-ext-azure->azure-ai-ml->-r requirements.txt (line 7)) (0.11.4)\n",
      "Requirement already satisfied: aiohttp>=3.0 in c:\\users\\kenakamu\\downloads\\aoaieval\\.venv\\lib\\site-packages (from azure-core[aio]>=1.30.0; extra == \"aio\"->azure-storage-blob[aio]<13.0.0,>=12.17.0->promptflow-azure->-r requirements.txt (line 2)) (3.11.11)\n",
      "Requirement already satisfied: fixedint==0.1.6 in c:\\users\\kenakamu\\downloads\\aoaieval\\.venv\\lib\\site-packages (from azure-monitor-opentelemetry-exporter<2.0.0,>=1.0.0b21->promptflow-devkit>=1.15.0->azure-ai-evaluation->-r requirements.txt (line 1)) (0.1.6)\n",
      "Requirement already satisfied: opentelemetry-api~=1.26 in c:\\users\\kenakamu\\downloads\\aoaieval\\.venv\\lib\\site-packages (from azure-monitor-opentelemetry-exporter<2.0.0,>=1.0.0b21->promptflow-devkit>=1.15.0->azure-ai-evaluation->-r requirements.txt (line 1)) (1.29.0)\n",
      "Requirement already satisfied: pycparser in c:\\users\\kenakamu\\downloads\\aoaieval\\.venv\\lib\\site-packages (from cffi>=1.12->cryptography>=2.5->azure-identity->-r requirements.txt (line 3)) (2.22)\n",
      "Requirement already satisfied: starlette<0.42.0,>=0.40.0 in c:\\users\\kenakamu\\downloads\\aoaieval\\.venv\\lib\\site-packages (from fastapi<1.0.0,>=0.109.0->promptflow-core>=1.15.0->azure-ai-evaluation->-r requirements.txt (line 1)) (0.41.3)\n",
      "Requirement already satisfied: pydantic!=1.8,!=1.8.1,!=2.0.0,!=2.0.1,!=2.1.0,<3.0.0,>=1.7.4 in c:\\users\\kenakamu\\downloads\\aoaieval\\.venv\\lib\\site-packages (from fastapi<1.0.0,>=0.109.0->promptflow-core>=1.15.0->azure-ai-evaluation->-r requirements.txt (line 1)) (2.10.5)\n",
      "Requirement already satisfied: Werkzeug>=3.1 in c:\\users\\kenakamu\\downloads\\aoaieval\\.venv\\lib\\site-packages (from flask<4.0.0,>=2.2.3->promptflow-core>=1.15.0->azure-ai-evaluation->-r requirements.txt (line 1)) (3.1.3)\n",
      "Requirement already satisfied: Jinja2>=3.1.2 in c:\\users\\kenakamu\\downloads\\aoaieval\\.venv\\lib\\site-packages (from flask<4.0.0,>=2.2.3->promptflow-core>=1.15.0->azure-ai-evaluation->-r requirements.txt (line 1)) (3.1.5)\n",
      "Requirement already satisfied: itsdangerous>=2.2 in c:\\users\\kenakamu\\downloads\\aoaieval\\.venv\\lib\\site-packages (from flask<4.0.0,>=2.2.3->promptflow-core>=1.15.0->azure-ai-evaluation->-r requirements.txt (line 1)) (2.2.0)\n",
      "Requirement already satisfied: blinker>=1.9 in c:\\users\\kenakamu\\downloads\\aoaieval\\.venv\\lib\\site-packages (from flask<4.0.0,>=2.2.3->promptflow-core>=1.15.0->azure-ai-evaluation->-r requirements.txt (line 1)) (1.9.0)\n",
      "Requirement already satisfied: aniso8601>=0.82 in c:\\users\\kenakamu\\downloads\\aoaieval\\.venv\\lib\\site-packages (from flask-restx<2.0.0,>=1.2.0->promptflow-devkit>=1.15.0->azure-ai-evaluation->-r requirements.txt (line 1)) (10.0.0)\n",
      "Requirement already satisfied: pytz in c:\\users\\kenakamu\\downloads\\aoaieval\\.venv\\lib\\site-packages (from flask-restx<2.0.0,>=1.2.0->promptflow-devkit>=1.15.0->azure-ai-evaluation->-r requirements.txt (line 1)) (2024.2)\n",
      "Requirement already satisfied: importlib-resources in c:\\users\\kenakamu\\downloads\\aoaieval\\.venv\\lib\\site-packages (from flask-restx<2.0.0,>=1.2.0->promptflow-devkit>=1.15.0->azure-ai-evaluation->-r requirements.txt (line 1)) (6.5.2)\n",
      "Requirement already satisfied: gitdb<5,>=4.0.1 in c:\\users\\kenakamu\\downloads\\aoaieval\\.venv\\lib\\site-packages (from gitpython<4.0.0,>=3.1.24->promptflow-devkit>=1.15.0->azure-ai-evaluation->-r requirements.txt (line 1)) (4.0.12)\n",
      "Requirement already satisfied: anyio in c:\\users\\kenakamu\\downloads\\aoaieval\\.venv\\lib\\site-packages (from httpx>=0.25.1->promptflow-devkit>=1.15.0->azure-ai-evaluation->-r requirements.txt (line 1)) (4.8.0)\n",
      "Requirement already satisfied: httpcore==1.* in c:\\users\\kenakamu\\downloads\\aoaieval\\.venv\\lib\\site-packages (from httpx>=0.25.1->promptflow-devkit>=1.15.0->azure-ai-evaluation->-r requirements.txt (line 1)) (1.0.7)\n",
      "Requirement already satisfied: h11<0.15,>=0.13 in c:\\users\\kenakamu\\downloads\\aoaieval\\.venv\\lib\\site-packages (from httpcore==1.*->httpx>=0.25.1->promptflow-devkit>=1.15.0->azure-ai-evaluation->-r requirements.txt (line 1)) (0.14.0)\n",
      "Requirement already satisfied: jaraco.classes in c:\\users\\kenakamu\\downloads\\aoaieval\\.venv\\lib\\site-packages (from keyring<25.0.0,>=24.2.0->promptflow-devkit>=1.15.0->azure-ai-evaluation->-r requirements.txt (line 1)) (3.4.0)\n",
      "Requirement already satisfied: importlib-metadata>=4.11.4 in c:\\users\\kenakamu\\downloads\\aoaieval\\.venv\\lib\\site-packages (from keyring<25.0.0,>=24.2.0->promptflow-devkit>=1.15.0->azure-ai-evaluation->-r requirements.txt (line 1)) (8.5.0)\n",
      "Requirement already satisfied: pywin32-ctypes>=0.2.0 in c:\\users\\kenakamu\\downloads\\aoaieval\\.venv\\lib\\site-packages (from keyring<25.0.0,>=24.2.0->promptflow-devkit>=1.15.0->azure-ai-evaluation->-r requirements.txt (line 1)) (0.2.3)\n",
      "Requirement already satisfied: opencensus-context>=0.1.3 in c:\\users\\kenakamu\\downloads\\aoaieval\\.venv\\lib\\site-packages (from opencensus<1.0.0,>=0.11.4->opencensus-ext-azure->azure-ai-ml->-r requirements.txt (line 7)) (0.1.3)\n",
      "Requirement already satisfied: google-api-core<3.0.0,>=1.0.0 in c:\\users\\kenakamu\\downloads\\aoaieval\\.venv\\lib\\site-packages (from opencensus<1.0.0,>=0.11.4->opencensus-ext-azure->azure-ai-ml->-r requirements.txt (line 7)) (2.24.0)\n",
      "Requirement already satisfied: deprecated>=1.2.6 in c:\\users\\kenakamu\\downloads\\aoaieval\\.venv\\lib\\site-packages (from opentelemetry-exporter-otlp-proto-http<2.0.0,>=1.22.0->promptflow-devkit>=1.15.0->azure-ai-evaluation->-r requirements.txt (line 1)) (1.2.15)\n",
      "Requirement already satisfied: googleapis-common-protos~=1.52 in c:\\users\\kenakamu\\downloads\\aoaieval\\.venv\\lib\\site-packages (from opentelemetry-exporter-otlp-proto-http<2.0.0,>=1.22.0->promptflow-devkit>=1.15.0->azure-ai-evaluation->-r requirements.txt (line 1)) (1.66.0)\n",
      "Requirement already satisfied: opentelemetry-exporter-otlp-proto-common==1.29.0 in c:\\users\\kenakamu\\downloads\\aoaieval\\.venv\\lib\\site-packages (from opentelemetry-exporter-otlp-proto-http<2.0.0,>=1.22.0->promptflow-devkit>=1.15.0->azure-ai-evaluation->-r requirements.txt (line 1)) (1.29.0)\n",
      "Requirement already satisfied: opentelemetry-proto==1.29.0 in c:\\users\\kenakamu\\downloads\\aoaieval\\.venv\\lib\\site-packages (from opentelemetry-exporter-otlp-proto-http<2.0.0,>=1.22.0->promptflow-devkit>=1.15.0->azure-ai-evaluation->-r requirements.txt (line 1)) (1.29.0)\n",
      "Requirement already satisfied: protobuf<6.0,>=5.0 in c:\\users\\kenakamu\\downloads\\aoaieval\\.venv\\lib\\site-packages (from opentelemetry-proto==1.29.0->opentelemetry-exporter-otlp-proto-http<2.0.0,>=1.22.0->promptflow-devkit>=1.15.0->azure-ai-evaluation->-r requirements.txt (line 1)) (5.29.3)\n",
      "Requirement already satisfied: numpy>=1.23.2 in c:\\users\\kenakamu\\downloads\\aoaieval\\.venv\\lib\\site-packages (from pandas<3.0.0,>=1.5.3->promptflow-devkit>=1.15.0->azure-ai-evaluation->-r requirements.txt (line 1)) (2.2.1)\n",
      "Requirement already satisfied: tzdata>=2022.7 in c:\\users\\kenakamu\\downloads\\aoaieval\\.venv\\lib\\site-packages (from pandas<3.0.0,>=1.5.3->promptflow-devkit>=1.15.0->azure-ai-evaluation->-r requirements.txt (line 1)) (2024.2)\n",
      "Requirement already satisfied: oauthlib>=3.0.0 in c:\\users\\kenakamu\\downloads\\aoaieval\\.venv\\lib\\site-packages (from requests-oauthlib>=0.5.0->msrest>=0.6.18->azure-ai-ml->-r requirements.txt (line 7)) (3.2.2)\n",
      "Requirement already satisfied: ruamel.yaml.clib>=0.2.7 in c:\\users\\kenakamu\\downloads\\aoaieval\\.venv\\lib\\site-packages (from ruamel.yaml<1.0.0,>=0.17.10->promptflow-core>=1.15.0->azure-ai-evaluation->-r requirements.txt (line 1)) (0.2.12)\n",
      "Requirement already satisfied: greenlet!=0.4.17 in c:\\users\\kenakamu\\downloads\\aoaieval\\.venv\\lib\\site-packages (from sqlalchemy<3.0.0,>=1.4.48->promptflow-devkit>=1.15.0->azure-ai-evaluation->-r requirements.txt (line 1)) (3.1.1)\n",
      "Requirement already satisfied: aiohappyeyeballs>=2.3.0 in c:\\users\\kenakamu\\downloads\\aoaieval\\.venv\\lib\\site-packages (from aiohttp>=3.0->azure-core[aio]>=1.30.0; extra == \"aio\"->azure-storage-blob[aio]<13.0.0,>=12.17.0->promptflow-azure->-r requirements.txt (line 2)) (2.4.4)\n",
      "Requirement already satisfied: aiosignal>=1.1.2 in c:\\users\\kenakamu\\downloads\\aoaieval\\.venv\\lib\\site-packages (from aiohttp>=3.0->azure-core[aio]>=1.30.0; extra == \"aio\"->azure-storage-blob[aio]<13.0.0,>=12.17.0->promptflow-azure->-r requirements.txt (line 2)) (1.3.2)\n",
      "Requirement already satisfied: frozenlist>=1.1.1 in c:\\users\\kenakamu\\downloads\\aoaieval\\.venv\\lib\\site-packages (from aiohttp>=3.0->azure-core[aio]>=1.30.0; extra == \"aio\"->azure-storage-blob[aio]<13.0.0,>=12.17.0->promptflow-azure->-r requirements.txt (line 2)) (1.5.0)\n",
      "Requirement already satisfied: multidict<7.0,>=4.5 in c:\\users\\kenakamu\\downloads\\aoaieval\\.venv\\lib\\site-packages (from aiohttp>=3.0->azure-core[aio]>=1.30.0; extra == \"aio\"->azure-storage-blob[aio]<13.0.0,>=12.17.0->promptflow-azure->-r requirements.txt (line 2)) (6.1.0)\n",
      "Requirement already satisfied: propcache>=0.2.0 in c:\\users\\kenakamu\\downloads\\aoaieval\\.venv\\lib\\site-packages (from aiohttp>=3.0->azure-core[aio]>=1.30.0; extra == \"aio\"->azure-storage-blob[aio]<13.0.0,>=12.17.0->promptflow-azure->-r requirements.txt (line 2)) (0.2.1)\n",
      "Requirement already satisfied: yarl<2.0,>=1.17.0 in c:\\users\\kenakamu\\downloads\\aoaieval\\.venv\\lib\\site-packages (from aiohttp>=3.0->azure-core[aio]>=1.30.0; extra == \"aio\"->azure-storage-blob[aio]<13.0.0,>=12.17.0->promptflow-azure->-r requirements.txt (line 2)) (1.18.3)\n",
      "Requirement already satisfied: wrapt<2,>=1.10 in c:\\users\\kenakamu\\downloads\\aoaieval\\.venv\\lib\\site-packages (from deprecated>=1.2.6->opentelemetry-exporter-otlp-proto-http<2.0.0,>=1.22.0->promptflow-devkit>=1.15.0->azure-ai-evaluation->-r requirements.txt (line 1)) (1.17.2)\n",
      "Requirement already satisfied: smmap<6,>=3.0.1 in c:\\users\\kenakamu\\downloads\\aoaieval\\.venv\\lib\\site-packages (from gitdb<5,>=4.0.1->gitpython<4.0.0,>=3.1.24->promptflow-devkit>=1.15.0->azure-ai-evaluation->-r requirements.txt (line 1)) (5.0.2)\n",
      "Requirement already satisfied: proto-plus<2.0.0dev,>=1.22.3 in c:\\users\\kenakamu\\downloads\\aoaieval\\.venv\\lib\\site-packages (from google-api-core<3.0.0,>=1.0.0->opencensus<1.0.0,>=0.11.4->opencensus-ext-azure->azure-ai-ml->-r requirements.txt (line 7)) (1.25.0)\n",
      "Requirement already satisfied: google-auth<3.0.dev0,>=2.14.1 in c:\\users\\kenakamu\\downloads\\aoaieval\\.venv\\lib\\site-packages (from google-api-core<3.0.0,>=1.0.0->opencensus<1.0.0,>=0.11.4->opencensus-ext-azure->azure-ai-ml->-r requirements.txt (line 7)) (2.37.0)\n",
      "Requirement already satisfied: zipp>=3.20 in c:\\users\\kenakamu\\downloads\\aoaieval\\.venv\\lib\\site-packages (from importlib-metadata>=4.11.4->keyring<25.0.0,>=24.2.0->promptflow-devkit>=1.15.0->azure-ai-evaluation->-r requirements.txt (line 1)) (3.21.0)\n",
      "Requirement already satisfied: MarkupSafe>=2.0 in c:\\users\\kenakamu\\downloads\\aoaieval\\.venv\\lib\\site-packages (from Jinja2>=3.1.2->flask<4.0.0,>=2.2.3->promptflow-core>=1.15.0->azure-ai-evaluation->-r requirements.txt (line 1)) (3.0.2)\n",
      "Requirement already satisfied: opentelemetry-semantic-conventions==0.50b0 in c:\\users\\kenakamu\\downloads\\aoaieval\\.venv\\lib\\site-packages (from opentelemetry-sdk<2.0.0,>=1.22.0->promptflow-tracing==1.17.1->promptflow-core>=1.15.0->azure-ai-evaluation->-r requirements.txt (line 1)) (0.50b0)\n",
      "Requirement already satisfied: annotated-types>=0.6.0 in c:\\users\\kenakamu\\downloads\\aoaieval\\.venv\\lib\\site-packages (from pydantic!=1.8,!=1.8.1,!=2.0.0,!=2.0.1,!=2.1.0,<3.0.0,>=1.7.4->fastapi<1.0.0,>=0.109.0->promptflow-core>=1.15.0->azure-ai-evaluation->-r requirements.txt (line 1)) (0.7.0)\n",
      "Requirement already satisfied: pydantic-core==2.27.2 in c:\\users\\kenakamu\\downloads\\aoaieval\\.venv\\lib\\site-packages (from pydantic!=1.8,!=1.8.1,!=2.0.0,!=2.0.1,!=2.1.0,<3.0.0,>=1.7.4->fastapi<1.0.0,>=0.109.0->promptflow-core>=1.15.0->azure-ai-evaluation->-r requirements.txt (line 1)) (2.27.2)\n",
      "Requirement already satisfied: sniffio>=1.1 in c:\\users\\kenakamu\\downloads\\aoaieval\\.venv\\lib\\site-packages (from anyio->httpx>=0.25.1->promptflow-devkit>=1.15.0->azure-ai-evaluation->-r requirements.txt (line 1)) (1.3.1)\n",
      "Requirement already satisfied: more-itertools in c:\\users\\kenakamu\\downloads\\aoaieval\\.venv\\lib\\site-packages (from jaraco.classes->keyring<25.0.0,>=24.2.0->promptflow-devkit>=1.15.0->azure-ai-evaluation->-r requirements.txt (line 1)) (10.6.0)\n",
      "Requirement already satisfied: distro<2,>=1.7.0 in c:\\users\\kenakamu\\downloads\\aoaieval\\.venv\\lib\\site-packages (from openai->promptflow-tracing==1.17.1->promptflow-core>=1.15.0->azure-ai-evaluation->-r requirements.txt (line 1)) (1.9.0)\n",
      "Requirement already satisfied: jiter<1,>=0.4.0 in c:\\users\\kenakamu\\downloads\\aoaieval\\.venv\\lib\\site-packages (from openai->promptflow-tracing==1.17.1->promptflow-core>=1.15.0->azure-ai-evaluation->-r requirements.txt (line 1)) (0.8.2)\n",
      "Requirement already satisfied: cachetools<6.0,>=2.0.0 in c:\\users\\kenakamu\\downloads\\aoaieval\\.venv\\lib\\site-packages (from google-auth<3.0.dev0,>=2.14.1->google-api-core<3.0.0,>=1.0.0->opencensus<1.0.0,>=0.11.4->opencensus-ext-azure->azure-ai-ml->-r requirements.txt (line 7)) (5.5.0)\n",
      "Requirement already satisfied: pyasn1-modules>=0.2.1 in c:\\users\\kenakamu\\downloads\\aoaieval\\.venv\\lib\\site-packages (from google-auth<3.0.dev0,>=2.14.1->google-api-core<3.0.0,>=1.0.0->opencensus<1.0.0,>=0.11.4->opencensus-ext-azure->azure-ai-ml->-r requirements.txt (line 7)) (0.4.1)\n",
      "Requirement already satisfied: rsa<5,>=3.1.4 in c:\\users\\kenakamu\\downloads\\aoaieval\\.venv\\lib\\site-packages (from google-auth<3.0.dev0,>=2.14.1->google-api-core<3.0.0,>=1.0.0->opencensus<1.0.0,>=0.11.4->opencensus-ext-azure->azure-ai-ml->-r requirements.txt (line 7)) (4.9)\n",
      "Requirement already satisfied: pyasn1<0.7.0,>=0.4.6 in c:\\users\\kenakamu\\downloads\\aoaieval\\.venv\\lib\\site-packages (from pyasn1-modules>=0.2.1->google-auth<3.0.dev0,>=2.14.1->google-api-core<3.0.0,>=1.0.0->opencensus<1.0.0,>=0.11.4->opencensus-ext-azure->azure-ai-ml->-r requirements.txt (line 7)) (0.6.1)\n",
      "Note: you may need to restart the kernel to use updated packages.\n"
     ]
    }
   ],
   "source": [
    "%pip install -r requirements.txt"
   ]
  },
  {
   "cell_type": "code",
   "execution_count": 8,
   "metadata": {},
   "outputs": [],
   "source": [
    "import os\n",
    "import json\n",
    "from azure.identity import DefaultAzureCredential\n",
    "from dotenv import load_dotenv \n",
    "from azure.ai.projects import AIProjectClient\n",
    "from azure.ai.ml import MLClient\n",
    "\n",
    "\n",
    "load_dotenv() \n",
    "credential = DefaultAzureCredential()\n",
    "\n",
    "# Initialize Azure AI project and Azure OpenAI conncetion with your environment variables\n",
    "azure_ai_project = {\n",
    "    \"subscription_id\": os.environ.get(\"AZURE_SUBSCRIPTION_ID\"),\n",
    "    \"resource_group_name\": os.environ.get(\"AZURE_RESOURCE_GROUP\"),\n",
    "    \"project_name\": os.environ.get(\"AZURE_PROJECT_NAME\"),\n",
    "}\n",
    "\n",
    "model_config = {\n",
    "    \"azure_endpoint\": os.environ.get(\"AZURE_OPENAI_ENDPOINT\"),\n",
    "    \"azure_deployment\": os.environ.get(\"AZURE_OPENAI_DEPLOYMENT\"),\n",
    "    \"api_version\": os.environ.get(\"AZURE_OPENAI_API_VERSION\"),\n",
    "}\n",
    "\n",
    "project_client = AIProjectClient.from_connection_string(\n",
    "    credential=DefaultAzureCredential(),\n",
    "    conn_str=os.environ.get(\"AZURE_PROJECT_CONNECTION_STRING\"),\n",
    ")\n",
    "\n",
    "# Define ml_client to register custom evaluator\n",
    "ml_client = MLClient(\n",
    "       subscription_id=os.environ[\"AZURE_SUBSCRIPTION_ID\"],\n",
    "       resource_group_name=os.environ[\"AZURE_RESOURCE_GROUP\"],\n",
    "       workspace_name=os.environ[\"AZURE_PROJECT_NAME\"],\n",
    "       credential=DefaultAzureCredential()\n",
    ")\n"
   ]
  },
  {
   "cell_type": "markdown",
   "metadata": {},
   "source": [
    "## Performance and quality evaluator\n",
    "- GroundednessEvaluator uses LLM \n",
    "- GroundednessProEvaluator uses Azure Content Safety in Azure Foundary"
   ]
  },
  {
   "cell_type": "code",
   "execution_count": 3,
   "metadata": {},
   "outputs": [
    {
     "name": "stderr",
     "output_type": "stream",
     "text": [
      "Class GroundednessProEvaluator: This is an experimental class, and may change at any time. Please see https://aka.ms/azuremlexperimental for more information.\n"
     ]
    },
    {
     "name": "stdout",
     "output_type": "stream",
     "text": [
      "{\n",
      "  \"groundedness\": 5.0,\n",
      "  \"gpt_groundedness\": 5.0,\n",
      "  \"groundedness_reason\": \"The response is fully grounded in the context, providing a complete and accurate answer to the query.\"\n",
      "}\n",
      "{\n",
      "  \"groundedness_pro_label\": true,\n",
      "  \"groundedness_pro_reason\": \"All Contents are grounded\"\n",
      "}\n"
     ]
    }
   ],
   "source": [
    "from azure.ai.evaluation import GroundednessProEvaluator, GroundednessEvaluator\n",
    "\n",
    "# Initialzing Groundedness and Groundedness Pro evaluators\n",
    "groundedness_eval = GroundednessEvaluator(model_config)\n",
    "groundedness_pro_eval = GroundednessProEvaluator(azure_ai_project=azure_ai_project, credential=credential)\n",
    "\n",
    "query_response = dict(\n",
    "    query=\"Which tent is the most waterproof?\",\n",
    "    context=\"The Alpine Explorer Tent is the most water-proof of all tents available.\",\n",
    "    response=\"The Alpine Explorer Tent is the most waterproof.\"\n",
    ")\n",
    "\n",
    "## Running Groundedness Evaluator on a query and response pair\n",
    "groundedness_score = groundedness_eval(\n",
    "    **query_response\n",
    ")\n",
    "print(json.dumps(groundedness_score, indent=2))\n",
    "\n",
    "groundedness_pro_score = groundedness_pro_eval(\n",
    "    **query_response\n",
    ")\n",
    "print(json.dumps(groundedness_pro_score, indent=2))\n"
   ]
  },
  {
   "cell_type": "markdown",
   "metadata": {},
   "source": [
    "## Risk and safety evaluator"
   ]
  },
  {
   "cell_type": "code",
   "execution_count": 4,
   "metadata": {},
   "outputs": [
    {
     "name": "stderr",
     "output_type": "stream",
     "text": [
      "Class ViolenceEvaluator: This is an experimental class, and may change at any time. Please see https://aka.ms/azuremlexperimental for more information.\n"
     ]
    },
    {
     "name": "stdout",
     "output_type": "stream",
     "text": [
      "{\n",
      "  \"violence\": \"Very low\",\n",
      "  \"violence_score\": 0,\n",
      "  \"violence_reason\": \"The system's response is purely informational and does not contain any violent content. It simply provides the capital of France, which is Paris. There is no mention of violence, harm, or any related topics.\"\n",
      "}\n",
      "{\n",
      "  \"violence_score\": 0.0,\n",
      "  \"evaluation_per_turn\": {\n",
      "    \"violence\": [\n",
      "      \"Very low\",\n",
      "      \"Very low\"\n",
      "    ],\n",
      "    \"violence_score\": [\n",
      "      0,\n",
      "      0\n",
      "    ],\n",
      "    \"violence_reason\": [\n",
      "      \"The system's response is a straightforward answer to a question about waterproof tents. There is no mention or depiction of violence, physical harm, or any other violent content. Therefore, the severity level is 0.\",\n",
      "      \"The system's response does not contain any violent content. It is simply providing a price in response to the human's question. There is no mention of violence, harm, or any related topics.\"\n",
      "    ]\n",
      "  }\n",
      "}\n"
     ]
    }
   ],
   "source": [
    "from azure.ai.evaluation import ViolenceEvaluator\n",
    "from azure.identity import DefaultAzureCredential\n",
    "credential = DefaultAzureCredential()\n",
    "\n",
    "# Initializing Violence Evaluator with project information\n",
    "violence_eval = ViolenceEvaluator(credential=credential, azure_ai_project=azure_ai_project)\n",
    "# Running Violence Evaluator on a query and response pair\n",
    "violence_score = violence_eval(query=\"What is the capital of France?\", response=\"Paris.\")\n",
    "print(json.dumps(violence_score, indent=2))\n",
    "\n",
    "# Conversation mode\n",
    "\n",
    "conversation_str =  \"\"\"{\"messages\": [ { \"content\": \"Which tent is the most waterproof?\", \"role\": \"user\" }, { \"content\": \"The Alpine Explorer Tent is the most waterproof\", \"role\": \"assistant\", \"context\": \"From the our product list the alpine explorer tent is the most waterproof. The Adventure Dining Table has higher weight.\" }, { \"content\": \"How much does it cost?\", \"role\": \"user\" }, { \"content\": \"$120.\", \"role\": \"assistant\", \"context\": \"The Alpine Explorer Tent is $120.\"} ] }\"\"\" \n",
    "conversation = json.loads(conversation_str)\n",
    "violence_conv_score = violence_eval(conversation=conversation) \n",
    "print(json.dumps(violence_conv_score, indent=2))\n"
   ]
  },
  {
   "cell_type": "markdown",
   "metadata": {},
   "source": [
    "## Custom evaluator"
   ]
  },
  {
   "cell_type": "code",
   "execution_count": null,
   "metadata": {},
   "outputs": [
    {
     "name": "stdout",
     "output_type": "stream",
     "text": [
      "{\n",
      "  \"answer_length\": 27\n",
      "}\n"
     ]
    }
   ],
   "source": [
    "from answer_len.answer_length import AnswerLengthEvaluator\n",
    "\n",
    "answer_length_evaluator = AnswerLengthEvaluator()\n",
    "answer_length = answer_length_evaluator(answer=\"What is the speed of light?\")\n",
    "\n",
    "print(json.dumps(answer_length, indent=2))"
   ]
  },
  {
   "cell_type": "markdown",
   "metadata": {},
   "source": [
    "## Prompt-based evaluator\n"
   ]
  },
  {
   "cell_type": "code",
   "execution_count": 6,
   "metadata": {},
   "outputs": [
    {
     "name": "stdout",
     "output_type": "stream",
     "text": [
      "{\n",
      "  \"score\": 1,\n",
      "  \"reason\": \"The response is defensive and lacks warmth or friendliness.\"\n",
      "}\n"
     ]
    }
   ],
   "source": [
    "from friendliness.friend import FriendlinessEvaluator\n",
    "\n",
    "friendliness_eval = FriendlinessEvaluator(model_config)\n",
    "\n",
    "friendliness_score = friendliness_eval(response=\"I will not apologize for my behavior!\")\n",
    "print(json.dumps(friendliness_score, indent=2))"
   ]
  },
  {
   "cell_type": "markdown",
   "metadata": {},
   "source": [
    "## Local evaluation\n",
    "\n",
    "### Prerequisites\n",
    "If you want to enable logging to your Azure AI project for evaluation results, follow these steps:\n",
    "\n",
    "- Make sure you're first logged in by running az login.\n",
    "- Make sure you have the Identity-based access setting for the storage account in your Azure AI hub. To find your storage, go to the Overview page of your Azure AI hub and select Storage.\n",
    "- Make sure you have Storage Blob Data Contributor role for the storage account."
   ]
  },
  {
   "cell_type": "code",
   "execution_count": null,
   "metadata": {},
   "outputs": [],
   "source": [
    "!az login\n",
    "!az account show"
   ]
  },
  {
   "cell_type": "code",
   "execution_count": 7,
   "metadata": {},
   "outputs": [
    {
     "name": "stderr",
     "output_type": "stream",
     "text": [
      "[2025-01-21 15:29:16 +0900][promptflow._core.entry_meta_generator][WARNING] - Generate meta in current process and timeout won't take effect. Please handle timeout manually outside current process.\n",
      "[2025-01-21 15:29:16 +0900][promptflow._core.entry_meta_generator][WARNING] - Generate meta in current process and timeout won't take effect. Please handle timeout manually outside current process.\n",
      "[2025-01-21 15:29:16 +0900][promptflow._sdk._orchestrator.run_submitter][INFO] - Submitting run answer_len_answer_length_answerlengthevaluator_hc0s3jbu_20250121_152915_307222, log path: C:\\Users\\kenakamu\\.promptflow\\.runs\\answer_len_answer_length_answerlengthevaluator_hc0s3jbu_20250121_152915_307222\\logs.txt\n",
      "[2025-01-21 15:29:16 +0900][promptflow._sdk._orchestrator.run_submitter][INFO] - Submitting run azure_ai_evaluation_evaluators_common_base_eval_asyncevaluatorbase_frvu7fh1_20250121_152915_307222, log path: C:\\Users\\kenakamu\\.promptflow\\.runs\\azure_ai_evaluation_evaluators_common_base_eval_asyncevaluatorbase_frvu7fh1_20250121_152915_307222\\logs.txt\n"
     ]
    },
    {
     "name": "stdout",
     "output_type": "stream",
     "text": [
      "Prompt flow service has started...\n",
      "Prompt flow service has started...\n",
      "You can view the traces in local from http://127.0.0.1:23333/v1.0/ui/traces/?#run=answer_len_answer_length_answerlengthevaluator_hc0s3jbu_20250121_152915_307222\n",
      "You can view the traces in local from http://127.0.0.1:23333/v1.0/ui/traces/?#run=azure_ai_evaluation_evaluators_common_base_eval_asyncevaluatorbase_frvu7fh1_20250121_152915_307222\n",
      "2025-01-21 15:29:16 +0900   11980 execution.bulk     INFO     Current thread is not main thread, skip signal handler registration in BatchEngine.\n",
      "2025-01-21 15:29:30 +0900   11980 execution.bulk     INFO     Finished 1 / 2 lines.\n",
      "2025-01-21 15:29:30 +0900   11980 execution.bulk     INFO     Average execution time for completed lines: 13.66 seconds. Estimated time for incomplete lines: 13.66 seconds.\n",
      "2025-01-21 15:29:30 +0900   11980 execution.bulk     INFO     Finished 2 / 2 lines.\n",
      "2025-01-21 15:29:30 +0900   11980 execution.bulk     INFO     Average execution time for completed lines: 6.99 seconds. Estimated time for incomplete lines: 0.0 seconds.\n",
      "======= Run Summary =======\n",
      "\n",
      "Run name: \"azure_ai_evaluation_evaluators_common_base_eval_asyncevaluatorbase_frvu7fh1_20250121_152915_307222\"\n",
      "Run status: \"Completed\"\n",
      "Start time: \"2025-01-21 15:29:15.302226+09:00\"\n",
      "Duration: \"0:00:16.041061\"\n",
      "Output path: \"C:\\Users\\kenakamu\\.promptflow\\.runs\\azure_ai_evaluation_evaluators_common_base_eval_asyncevaluatorbase_frvu7fh1_20250121_152915_307222\"\n",
      "\n",
      "2025-01-21 15:29:34 +0900   11980 execution.bulk     INFO     Process name(SpawnProcess-3)-Process id(38008)-Line number(0) completed.\n",
      "2025-01-21 15:29:34 +0900   11980 execution.bulk     INFO     Finished 2 / 2 lines.\n",
      "2025-01-21 15:29:34 +0900   11980 execution.bulk     INFO     Average execution time for completed lines: 4.0 seconds. Estimated time for incomplete lines: 0.0 seconds.\n",
      "2025-01-21 15:29:34 +0900   11980 execution.bulk     INFO     The thread monitoring the process [16848-SpawnProcess-2] will be terminated.\n",
      "2025-01-21 15:29:34 +0900   11980 execution.bulk     INFO     The thread monitoring the process [38008-SpawnProcess-3] will be terminated.\n",
      "2025-01-21 15:29:35 +0900   11980 execution.bulk     INFO     Process 16848 terminated.\n",
      "2025-01-21 15:29:35 +0900   11980 execution.bulk     INFO     Process 38008 terminated.\n",
      "2025-01-21 15:29:16 +0900   11980 execution.bulk     INFO     Current thread is not main thread, skip signal handler registration in BatchEngine.\n",
      "2025-01-21 15:29:16 +0900   11980 execution.bulk     INFO     The timeout for the batch run is 3600 seconds.\n",
      "2025-01-21 15:29:16 +0900   11980 execution.bulk     INFO     Current system's available memory is 40824.57421875MB, memory consumption of current process is 370.5703125MB, estimated available worker count is 40824.57421875/370.5703125 = 110\n",
      "2025-01-21 15:29:16 +0900   11980 execution.bulk     INFO     Set process count to 2 by taking the minimum value among the factors of {'default_worker_count': 4, 'row_count': 2, 'estimated_worker_count_based_on_memory_usage': 110}.\n",
      "2025-01-21 15:29:26 +0900   11980 execution.bulk     INFO     Process name(SpawnProcess-3)-Process id(38008)-Line number(0) start execution.\n",
      "2025-01-21 15:29:26 +0900   11980 execution.bulk     INFO     Process name(SpawnProcess-2)-Process id(16848)-Line number(1) start execution.\n",
      "2025-01-21 15:29:26 +0900   11980 execution.bulk     INFO     Process name(SpawnProcess-2)-Process id(16848)-Line number(1) completed.\n",
      "2025-01-21 15:29:27 +0900   11980 execution.bulk     INFO     Finished 1 / 2 lines.\n",
      "2025-01-21 15:29:27 +0900   11980 execution.bulk     INFO     Average execution time for completed lines: 1.0 seconds. Estimated time for incomplete lines: 1.0 seconds.\n",
      "2025-01-21 15:29:34 +0900   11980 execution.bulk     INFO     Process name(SpawnProcess-3)-Process id(38008)-Line number(0) completed.\n",
      "2025-01-21 15:29:34 +0900   11980 execution.bulk     INFO     Finished 2 / 2 lines.\n",
      "2025-01-21 15:29:34 +0900   11980 execution.bulk     INFO     Average execution time for completed lines: 4.0 seconds. Estimated time for incomplete lines: 0.0 seconds.\n",
      "2025-01-21 15:29:34 +0900   11980 execution.bulk     INFO     The thread monitoring the process [16848-SpawnProcess-2] will be terminated.\n",
      "2025-01-21 15:29:34 +0900   11980 execution.bulk     INFO     The thread monitoring the process [38008-SpawnProcess-3] will be terminated.\n",
      "2025-01-21 15:29:35 +0900   11980 execution.bulk     INFO     Process 16848 terminated.\n",
      "2025-01-21 15:29:35 +0900   11980 execution.bulk     INFO     Process 38008 terminated.\n",
      "======= Run Summary =======\n",
      "\n",
      "Run name: \"answer_len_answer_length_answerlengthevaluator_hc0s3jbu_20250121_152915_307222\"\n",
      "Run status: \"Completed\"\n",
      "Start time: \"2025-01-21 15:29:15.303225+09:00\"\n",
      "Duration: \"0:00:19.997013\"\n",
      "Output path: \"C:\\Users\\kenakamu\\.promptflow\\.runs\\answer_len_answer_length_answerlengthevaluator_hc0s3jbu_20250121_152915_307222\"\n",
      "\n",
      "======= Combined Run Summary (Per Evaluator) =======\n",
      "\n",
      "{\n",
      "    \"groundedness\": {\n",
      "        \"status\": \"Completed\",\n",
      "        \"duration\": \"0:00:16.041061\",\n",
      "        \"completed_lines\": 2,\n",
      "        \"failed_lines\": 0,\n",
      "        \"log_path\": \"C:\\\\Users\\\\kenakamu\\\\.promptflow\\\\.runs\\\\azure_ai_evaluation_evaluators_common_base_eval_asyncevaluatorbase_frvu7fh1_20250121_152915_307222\"\n",
      "    },\n",
      "    \"answer_length\": {\n",
      "        \"status\": \"Completed\",\n",
      "        \"duration\": \"0:00:19.997013\",\n",
      "        \"completed_lines\": 2,\n",
      "        \"failed_lines\": 0,\n",
      "        \"log_path\": \"C:\\\\Users\\\\kenakamu\\\\.promptflow\\\\.runs\\\\answer_len_answer_length_answerlengthevaluator_hc0s3jbu_20250121_152915_307222\"\n",
      "    }\n",
      "}\n",
      "\n",
      "====================================================\n",
      "\n",
      "Evaluation results saved to \"C:\\Users\\kenakamu\\Downloads\\aoaieval\\myevalresults.json\".\n",
      "\n"
     ]
    }
   ],
   "source": [
    "from azure.ai.evaluation import evaluate\n",
    "\n",
    "result = evaluate(\n",
    "    data=\"data/data.jsonl\", # provide your data here\n",
    "    evaluators={\n",
    "        \"groundedness\": groundedness_eval,\n",
    "        \"answer_length\": answer_length_evaluator,\n",
    "    },\n",
    "    # column mapping\n",
    "    evaluator_config={\n",
    "        \"groundedness\": {\n",
    "            \"column_mapping\": {\n",
    "                \"query\": \"${data.query}\",\n",
    "                \"context\": \"${data.context}\",\n",
    "                \"response\": \"${data.response}\"\n",
    "            } \n",
    "        },\n",
    "        \"answer_length\":{\n",
    "            \"column_mapping\": {\n",
    "                \"answer\": \"${data.response}\"\n",
    "            }\n",
    "        }\n",
    "    },\n",
    "    # Optionally provide your Azure AI project information to track your evaluation results in your Azure AI project\n",
    "    #azure_ai_project = azure_ai_project,\n",
    "    # Optionally provide an output path to dump a json of metric summary, row level data and metric and Azure AI project URL\n",
    "    output_path=\"./myevalresults.json\"\n",
    ")\n"
   ]
  },
  {
   "cell_type": "code",
   "execution_count": 9,
   "metadata": {},
   "outputs": [
    {
     "name": "stderr",
     "output_type": "stream",
     "text": [
      "Method evaluators: This is an experimental method, and may change at any time. Please see https://aka.ms/azuremlexperimental for more information.\n"
     ]
    },
    {
     "name": "stdout",
     "output_type": "stream",
     "text": [
      "Registered evaluator id: /subscriptions/348342f5-c2c7-4e33-87ef-5af51241bea0/resourceGroups/ai/providers/Microsoft.MachineLearningServices/workspaces/kenakamuevalproject/models/AnswerLenEvaluator/versions/2\n",
      "Versioned evaluator id: /subscriptions/348342f5-c2c7-4e33-87ef-5af51241bea0/resourceGroups/ai/providers/Microsoft.MachineLearningServices/workspaces/kenakamuevalproject/models/AnswerLenEvaluator/versions/2\n"
     ]
    }
   ],
   "source": [
    "from azure.ai.ml.entities import Model\n",
    "from promptflow.client import PFClient\n",
    "from answer_len.answer_length import AnswerLengthEvaluator\n",
    "\n",
    "\n",
    "# Then we convert it to evaluation flow and save it locally\n",
    "pf_client = PFClient()\n",
    "local_path = \"answer_len_local\"\n",
    "pf_client.flows.save(entry=AnswerLengthEvaluator, path=local_path)\n",
    "\n",
    "# Specify evaluator name to appear in the Evaluator library\n",
    "evaluator_name = \"AnswerLenEvaluator\"\n",
    "\n",
    "# Finally register the evaluator to the Evaluator library\n",
    "custom_evaluator = Model(\n",
    "    path=local_path,\n",
    "    name=evaluator_name,\n",
    "    description=\"Evaluator calculating answer length.\",\n",
    ")\n",
    "\n",
    "registered_evaluator = ml_client.evaluators.create_or_update(custom_evaluator)\n",
    "print(\"Registered evaluator id:\", registered_evaluator.id)\n",
    "\n",
    "# Registered evaluators have versioning. You can always reference any version available.\n",
    "versioned_evaluator = ml_client.evaluators.get(evaluator_name, version=1)\n",
    "print(\"Versioned evaluator id:\", registered_evaluator.id)"
   ]
  },
  {
   "cell_type": "markdown",
   "metadata": {},
   "source": [
    "### Upload test data"
   ]
  },
  {
   "cell_type": "code",
   "execution_count": 11,
   "metadata": {},
   "outputs": [],
   "source": [
    "\n",
    "data_id, _ = project_client.upload_file(file_path=\"./data/data.jsonl\")"
   ]
  },
  {
   "cell_type": "markdown",
   "metadata": {},
   "source": [
    "### Run the test in the cloud\n",
    "\n",
    "- Update the registered id which you can confirm from Foundry "
   ]
  },
  {
   "cell_type": "code",
   "execution_count": 13,
   "metadata": {},
   "outputs": [
    {
     "name": "stdout",
     "output_type": "stream",
     "text": [
      "----------------------------------------------------------------\n",
      "Created evaluation, evaluation ID:  ccaafeb5-5a2f-4223-b4dc-4767e037642a\n",
      "Evaluation status:  Starting\n",
      "AI project URI:  https://ai.azure.com/build/evaluation/ccaafeb5-5a2f-4223-b4dc-4767e037642a?wsid=/subscriptions/348342f5-c2c7-4e33-87ef-5af51241bea0/resourceGroups/ai/providers/Microsoft.MachineLearningServices/workspaces/kenakamuevalproject\n",
      "----------------------------------------------------------------\n"
     ]
    }
   ],
   "source": [
    "from azure.ai.projects.models import Evaluation, Dataset, EvaluatorConfiguration, ConnectionType\n",
    "from azure.ai.evaluation import F1ScoreEvaluator, RelevanceEvaluator, ViolenceEvaluator\n",
    "\n",
    "# Construct dataset ID per the instruction\n",
    "data_id = data_id\n",
    "\n",
    "default_connection = project_client.connections.get_default(connection_type=ConnectionType.AZURE_OPEN_AI)\n",
    "\n",
    "# Use the same model_config for your evaluator (or use different ones if needed)\n",
    "model_config = default_connection.to_evaluator_model_config(\n",
    "    deployment_name= os.environ.get(\"AZURE_OPENAI_DEPLOYMENT\"), \n",
    "    api_version= os.environ.get(\"AZURE_OPENAI_API_VERSION\"))\n",
    "\n",
    "# Create an evaluation\n",
    "evaluation = Evaluation(\n",
    "    display_name=\"Cloud evaluation\",\n",
    "    description=\"Evaluation of dataset\",\n",
    "    data=Dataset(id=data_id),\n",
    "    evaluators={\n",
    "        # Note the evaluator configuration key must follow a naming convention\n",
    "        # the string must start with a letter with only alphanumeric characters \n",
    "        # and underscores. Take \"f1_score\" as example: \"f1score\" or \"f1_evaluator\" \n",
    "        # will also be acceptable, but \"f1-score-eval\" or \"1score\" will result in errors.\n",
    "        \"f1_score\": EvaluatorConfiguration(\n",
    "            id=F1ScoreEvaluator.id,\n",
    "            data_mapping={\n",
    "                \"query\": \"${data.query}\",\n",
    "                \"response\": \"${data.response}\",\n",
    "                \"ground_truth\": \"${data.ground_truth}\"\n",
    "            }\n",
    "        ),\n",
    "        \"relevance\": EvaluatorConfiguration(\n",
    "            id=RelevanceEvaluator.id,\n",
    "            init_params={\n",
    "                \"model_config\": model_config\n",
    "            },\n",
    "            data_mapping={\n",
    "                \"query\": \"${data.query}\",\n",
    "                \"response\": \"${data.response}\"\n",
    "            }\n",
    "        ),\n",
    "        \"violence\": EvaluatorConfiguration(\n",
    "            id=ViolenceEvaluator.id,\n",
    "            init_params={\n",
    "                \"azure_ai_project\": project_client.scope\n",
    "            },\n",
    "            data_mapping={\n",
    "                \"query\": \"${data.query}\",\n",
    "                \"response\": \"${data.response}\"\n",
    "            }\n",
    "        ),\n",
    "        \"answer_len\": EvaluatorConfiguration(\n",
    "            id=\"azureml://locations/eastus2/workspaces/d7a5a4fb-c4ab-4c30-9e69-ed3012477767/models/AnswerLenEvaluator/versions/2\",\n",
    "            data_mapping={\n",
    "                \"answer\": \"${data.response}\"\n",
    "            }\n",
    "        )\n",
    "    },\n",
    ")\n",
    "\n",
    "# Create evaluation\n",
    "evaluation_response = project_client.evaluations.create(\n",
    "    evaluation=evaluation,\n",
    ")\n",
    "\n",
    "# Get evaluation\n",
    "get_evaluation_response = project_client.evaluations.get(evaluation_response.id)\n",
    "\n",
    "print(\"----------------------------------------------------------------\")\n",
    "print(\"Created evaluation, evaluation ID: \", get_evaluation_response.id)\n",
    "print(\"Evaluation status: \", get_evaluation_response.status)\n",
    "print(\"AI project URI: \", get_evaluation_response.properties[\"AiStudioEvaluationUri\"])\n",
    "print(\"----------------------------------------------------------------\")"
   ]
  }
 ],
 "metadata": {
  "kernelspec": {
   "display_name": ".venv",
   "language": "python",
   "name": "python3"
  },
  "language_info": {
   "codemirror_mode": {
    "name": "ipython",
    "version": 3
   },
   "file_extension": ".py",
   "mimetype": "text/x-python",
   "name": "python",
   "nbconvert_exporter": "python",
   "pygments_lexer": "ipython3",
   "version": "3.11.9"
  }
 },
 "nbformat": 4,
 "nbformat_minor": 2
}
